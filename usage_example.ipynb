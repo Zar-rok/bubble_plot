{
 "cells": [
  {
   "cell_type": "markdown",
   "metadata": {},
   "source": [
    "# How to use the `bubble_plot` module"
   ]
  },
  {
   "cell_type": "markdown",
   "metadata": {},
   "source": [
    "This Jupyter notebook provide an example of how the `bubble_plot` module can be used.\n",
    "\n",
    "In this example I have labelled random BibTeX references in `example/references.bib` using the `note` entry.\n",
    "\n",
    "I then want to automatically generate bubble plots where facets are some of the labels."
   ]
  },
  {
   "cell_type": "markdown",
   "metadata": {},
   "source": [
    "## Parsing references labels"
   ]
  },
  {
   "cell_type": "markdown",
   "metadata": {},
   "source": [
    "The `bubble_plot` module expect the labelled entries to be of type:"
   ]
  },
  {
   "cell_type": "code",
   "execution_count": 1,
   "metadata": {},
   "outputs": [],
   "source": [
    "from typing import Sequence, Dict\n",
    "Entries = Sequence[Dict[str, str]]"
   ]
  },
  {
   "cell_type": "markdown",
   "metadata": {},
   "source": [
    "I first import the library used to parse the references."
   ]
  },
  {
   "cell_type": "code",
   "execution_count": 2,
   "metadata": {},
   "outputs": [],
   "source": [
    "import pybtex.database"
   ]
  },
  {
   "cell_type": "markdown",
   "metadata": {},
   "source": [
    "I define the function to parse the labels of each reference."
   ]
  },
  {
   "cell_type": "code",
   "execution_count": 3,
   "metadata": {},
   "outputs": [],
   "source": [
    "def process_input(bib_file: str, labels_cls: Sequence[str]) -> Entries:\n",
    "    \"\"\"Extract labels and values\"\"\"\n",
    "    references = []\n",
    "    joined_labels_cls = ', '.join(labels_cls)\n",
    "    bib_input = pybtex.database.parse_file(bib_file, bib_format=\"bibtex\")\n",
    "    for key, entry in bib_input.entries.items():\n",
    "        current = {}\n",
    "        for label in entry.fields['note'].split(','):\n",
    "            label_cls, label_val = map(lambda s: s.strip(), label.split(':'))\n",
    "            if label_cls not in labels_cls:\n",
    "                print((f\"[!] The label classe: {label_cls} in: \"\n",
    "                       f\"{label} of entry {key} is not \"\n",
    "                       f\"one of: {joined_labels_cls}.\"),\n",
    "                      file=sys.stderr)\n",
    "                continue\n",
    "            current[label_cls] = label_val\n",
    "        references.append(current)\n",
    "    return references"
   ]
  },
  {
   "cell_type": "markdown",
   "metadata": {},
   "source": [
    "I define the labels I want to parse."
   ]
  },
  {
   "cell_type": "code",
   "execution_count": 4,
   "metadata": {},
   "outputs": [],
   "source": [
    "LABELS = ('XL1', 'XR1', 'Y1', 'XL2', 'XR2', 'Y2', 'YEA')"
   ]
  },
  {
   "cell_type": "code",
   "execution_count": 5,
   "metadata": {},
   "outputs": [],
   "source": [
    "ENTRIES = process_input(\"example/references.bib\", LABELS)"
   ]
  },
  {
   "cell_type": "code",
   "execution_count": 6,
   "metadata": {},
   "outputs": [
    {
     "name": "stdout",
     "output_type": "stream",
     "text": [
      "[{'XL1': 'label4',\n",
      "  'XL2': 'label6',\n",
      "  'XR1': 'label10',\n",
      "  'XR2': 'label9',\n",
      "  'Y1': 'label3',\n",
      "  'Y2': 'label7',\n",
      "  'YEA': '2018'},\n",
      " {'XL1': 'label11',\n",
      "  'XL2': 'label7',\n",
      "  'XR1': 'label7',\n",
      "  'XR2': 'label4',\n",
      "  'Y1': 'label4',\n",
      "  'Y2': 'label7',\n",
      "  'YEA': '2018'},\n",
      " {'XL1': 'label6',\n",
      "  'XL2': 'label1',\n",
      "  'XR1': 'label1',\n",
      "  'XR2': 'label1',\n",
      "  'Y1': 'label4',\n",
      "  'Y2': 'label3',\n",
      "  'YEA': '2019'}]\n"
     ]
    }
   ],
   "source": [
    "from pprint import pprint\n",
    "pprint(ENTRIES[:3])"
   ]
  },
  {
   "cell_type": "markdown",
   "metadata": {},
   "source": [
    "## Bubble plot configuration"
   ]
  },
  {
   "cell_type": "markdown",
   "metadata": {},
   "source": [
    "I then define the bubble plots I want."
   ]
  },
  {
   "cell_type": "code",
   "execution_count": 7,
   "metadata": {},
   "outputs": [],
   "source": [
    "import os\n",
    "from bubble_plot import Config, Facets"
   ]
  },
  {
   "cell_type": "markdown",
   "metadata": {},
   "source": [
    "I first configure the plots. See the docstring of the `Config` class in `bubble_plot.py` for more explanation."
   ]
  },
  {
   "cell_type": "code",
   "execution_count": 8,
   "metadata": {},
   "outputs": [],
   "source": [
    "OUTPUT_DIR = 'example_output/'\n",
    "try:\n",
    "    os.mkdir(OUTPUT_DIR)\n",
    "except FileExistsError:\n",
    "    pass"
   ]
  },
  {
   "cell_type": "code",
   "execution_count": 9,
   "metadata": {},
   "outputs": [],
   "source": [
    "CONFIG = Config(x_left_offset=1,\n",
    "                x_right_offset=2,\n",
    "                class_year='YEA',\n",
    "                field_names=['iy', 'ix', 'nbr', 'years', 'y', 'x'],\n",
    "                latex_template='latex_src/plot_template.tex',\n",
    "                output_dir=OUTPUT_DIR)"
   ]
  },
  {
   "cell_type": "markdown",
   "metadata": {},
   "source": [
    "And then define the different bubble plots I want, by describing which label I want on which facet."
   ]
  },
  {
   "cell_type": "code",
   "execution_count": 10,
   "metadata": {},
   "outputs": [],
   "source": [
    "PLOTS_PLAN = [\n",
    "    Facets(y='Y1', x_left='XL1', x_right='XR1'),\n",
    "    Facets(y='Y2', x_left='XL2', x_right='XR2'),\n",
    "    Facets(y='Y1', x_left='XL1', x_right='XR2')\n",
    "]"
   ]
  },
  {
   "cell_type": "markdown",
   "metadata": {},
   "source": [
    "## Bubble plot generation"
   ]
  },
  {
   "cell_type": "markdown",
   "metadata": {},
   "source": [
    "Finally, I generate the CSV file and prepare the LaTeX file for each plot."
   ]
  },
  {
   "cell_type": "code",
   "execution_count": 11,
   "metadata": {},
   "outputs": [],
   "source": [
    "from bubble_plot import build_and_save_plots"
   ]
  },
  {
   "cell_type": "code",
   "execution_count": 12,
   "metadata": {},
   "outputs": [],
   "source": [
    "build_and_save_plots(ENTRIES, PLOTS_PLAN, CONFIG)"
   ]
  }
 ],
 "metadata": {
  "kernelspec": {
   "display_name": "Python 3",
   "language": "python",
   "name": "python3"
  },
  "language_info": {
   "codemirror_mode": {
    "name": "ipython",
    "version": 3
   },
   "file_extension": ".py",
   "mimetype": "text/x-python",
   "name": "python",
   "nbconvert_exporter": "python",
   "pygments_lexer": "ipython3",
   "version": "3.8.5"
  }
 },
 "nbformat": 4,
 "nbformat_minor": 4
}
