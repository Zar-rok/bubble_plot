{
 "cells": [
  {
   "cell_type": "markdown",
   "metadata": {},
   "source": [
    "# How to use the `bubble_plot` module"
   ]
  },
  {
   "cell_type": "markdown",
   "metadata": {},
   "source": [
    "This Jupyter notebook provide an example of how the `bubble_plot` module can be used.\n",
    "\n",
    "In this example I have labelled random BibTeX references in `example/references.bib` using the `note` entry.\n",
    "\n",
    "I then want to automatically generate bubble plots where facets are some of the labels."
   ]
  },
  {
   "cell_type": "markdown",
   "metadata": {},
   "source": [
    "## Parsing references labels"
   ]
  },
  {
   "cell_type": "markdown",
   "metadata": {},
   "source": [
    "The `bubble_plot` module expect the labelled entries to be of type:"
   ]
  },
  {
   "cell_type": "code",
   "execution_count": 1,
   "metadata": {},
   "outputs": [],
   "source": [
    "from typing import Sequence, Dict, Tuple\n",
    "Entries = Sequence[Dict[str, str]]"
   ]
  },
  {
   "cell_type": "markdown",
   "metadata": {},
   "source": [
    "I first import the library used to parse the references."
   ]
  },
  {
   "cell_type": "code",
   "execution_count": 2,
   "metadata": {},
   "outputs": [],
   "source": [
    "import pybtex.database"
   ]
  },
  {
   "cell_type": "markdown",
   "metadata": {},
   "source": [
    "I define the function to parse the labels of each reference."
   ]
  },
  {
   "cell_type": "code",
   "execution_count": 3,
   "metadata": {},
   "outputs": [],
   "source": [
    "import sys\n",
    "def process_input(bib_file: str, labels_cls: Sequence[str]) -> Entries:\n",
    "    \"\"\"Extract labels and values\"\"\"\n",
    "    references = []\n",
    "    joined_labels_cls = ', '.join(labels_cls)\n",
    "    bib_input = pybtex.database.parse_file(bib_file, bib_format=\"bibtex\")\n",
    "    for key, entry in bib_input.entries.items():\n",
    "        current = {}\n",
    "        for label in entry.fields['note'].split(','):\n",
    "            label_cls, label_val = map(lambda s: s.strip(), label.split(':'))\n",
    "            if label_cls not in labels_cls:\n",
    "                print((f\"[!] The label class: {label_cls} in: \"\n",
    "                       f\"{label} of entry {key} is not \"\n",
    "                       f\"one of: {joined_labels_cls}.\"),\n",
    "                      file=sys.stderr)\n",
    "                continue\n",
    "            current[label_cls] = label_val\n",
    "        references.append(current)\n",
    "    return references"
   ]
  },
  {
   "cell_type": "markdown",
   "metadata": {},
   "source": [
    "I define the labels I want to parse."
   ]
  },
  {
   "cell_type": "code",
   "execution_count": 4,
   "metadata": {},
   "outputs": [],
   "source": [
    "LABELS = ('Fishes', 'Birds', 'Snakes', 'YEA')"
   ]
  },
  {
   "cell_type": "code",
   "execution_count": 5,
   "metadata": {},
   "outputs": [],
   "source": [
    "ENTRIES = process_input(\"./references.bib\", LABELS)"
   ]
  },
  {
   "cell_type": "code",
   "execution_count": 6,
   "metadata": {},
   "outputs": [
    {
     "name": "stdout",
     "output_type": "stream",
     "text": [
      "[{'Birds': 'Burrowing Owl',\n",
      "  'Fishes': 'Spanish mackerel',\n",
      "  'Snakes': 'Eastern Brown Snake',\n",
      "  'YEA': '2017'},\n",
      " {'Birds': 'Burrowing Owl',\n",
      "  'Fishes': 'Sea mullet',\n",
      "  'Snakes': 'Eastern Brown Snake',\n",
      "  'YEA': '2018'},\n",
      " {'Birds': 'Burrowing Owl',\n",
      "  'Fishes': 'Alligator gar',\n",
      "  'Snakes': 'Boa Constrictor',\n",
      "  'YEA': '2019'}]\n"
     ]
    }
   ],
   "source": [
    "from pprint import pprint\n",
    "pprint(ENTRIES[:3])"
   ]
  },
  {
   "cell_type": "markdown",
   "metadata": {},
   "source": [
    "## Optional: Custom color map"
   ]
  },
  {
   "cell_type": "markdown",
   "metadata": {},
   "source": [
    "I can provide a custom color map for the bubbles. Else a default one will be computed."
   ]
  },
  {
   "cell_type": "markdown",
   "metadata": {},
   "source": [
    "The color map is expected to be of type:"
   ]
  },
  {
   "cell_type": "code",
   "execution_count": 7,
   "metadata": {},
   "outputs": [],
   "source": [
    "ColorMap = Sequence[Tuple[float, float, float]]"
   ]
  },
  {
   "cell_type": "code",
   "execution_count": 8,
   "metadata": {},
   "outputs": [],
   "source": [
    "NBR_YEAR = len({entry['YEA'] for entry in ENTRIES})"
   ]
  },
  {
   "cell_type": "code",
   "execution_count": 9,
   "metadata": {},
   "outputs": [
    {
     "data": {
      "text/plain": [
       "[[0.9309021339955961, 0.9589917211174824, 0.9805946814755173],\n",
       " [0.7300721144135585, 0.8021476550561174, 0.9078919962629862],\n",
       " [0.5737994898892096, 0.6276416836500447, 0.8084014568466886]]"
      ]
     },
     "execution_count": 9,
     "metadata": {},
     "output_type": "execute_result"
    }
   ],
   "source": [
    "import seaborn as sns\n",
    "COLOR_MAP = sns.cubehelix_palette(start=0.25, rot=-0.2, light=0.95)[:NBR_YEAR]\n",
    "COLOR_MAP"
   ]
  },
  {
   "cell_type": "code",
   "execution_count": 10,
   "metadata": {},
   "outputs": [
    {
     "data": {
      "image/png": "[encoded data removed]",
      "text/plain": [
       "<Figure size 216x72 with 1 Axes>"
      ]
     },
     "metadata": {
      "needs_background": "light"
     },
     "output_type": "display_data"
    }
   ],
   "source": [
    "sns.palplot(COLOR_MAP)"
   ]
  },
  {
   "cell_type": "markdown",
   "metadata": {},
   "source": [
    "## Bubble plot configuration"
   ]
  },
  {
   "cell_type": "markdown",
   "metadata": {},
   "source": [
    "I then define the bubble plots I want."
   ]
  },
  {
   "cell_type": "code",
   "execution_count": 11,
   "metadata": {},
   "outputs": [],
   "source": [
    "import os\n",
    "from bubble_plot import Config, Facets"
   ]
  },
  {
   "cell_type": "markdown",
   "metadata": {},
   "source": [
    "I first configure the plots. See the docstring of the `Config` class in `bubble_plot.py` for more explanation."
   ]
  },
  {
   "cell_type": "code",
   "execution_count": 12,
   "metadata": {},
   "outputs": [],
   "source": [
    "OUTPUT_DIR = 'output/'\n",
    "try:\n",
    "    os.mkdir(OUTPUT_DIR)\n",
    "except FileExistsError:\n",
    "    pass"
   ]
  },
  {
   "cell_type": "code",
   "execution_count": 13,
   "metadata": {},
   "outputs": [],
   "source": [
    "CONFIG = Config(x_left_offset=2,\n",
    "                x_right_offset=3,\n",
    "                class_year='YEA',\n",
    "                field_names=['iy', 'ix', 'nbr', 'years', 'y', 'x'],\n",
    "                latex_template='../template.tex',\n",
    "                output_dir=OUTPUT_DIR,\n",
    "                color_map=COLOR_MAP)"
   ]
  },
  {
   "cell_type": "markdown",
   "metadata": {},
   "source": [
    "And then define the different bubble plots I want, by describing which label I want on which facet."
   ]
  },
  {
   "cell_type": "code",
   "execution_count": 14,
   "metadata": {},
   "outputs": [],
   "source": [
    "PLOTS_PLAN = [\n",
    "    Facets(y='Snakes', x_left='Fishes', x_right='Birds'),\n",
    "]"
   ]
  },
  {
   "cell_type": "markdown",
   "metadata": {},
   "source": [
    "## Bubble plot generation"
   ]
  },
  {
   "cell_type": "markdown",
   "metadata": {},
   "source": [
    "Finally, I generate the CSV file and prepare the LaTeX file for each plot."
   ]
  },
  {
   "cell_type": "code",
   "execution_count": 15,
   "metadata": {},
   "outputs": [],
   "source": [
    "from bubble_plot import build_and_save_plots"
   ]
  },
  {
   "cell_type": "code",
   "execution_count": 16,
   "metadata": {},
   "outputs": [],
   "source": [
    "build_and_save_plots(ENTRIES, PLOTS_PLAN, CONFIG)"
   ]
  },
  {
   "cell_type": "markdown",
   "metadata": {},
   "source": [
    "Then, I can take the generated files"
   ]
  },
  {
   "cell_type": "code",
   "execution_count": 17,
   "metadata": {},
   "outputs": [
    {
     "data": {
      "text/plain": [
       "['Fishes_Snakes_Birds.csv', 'Fishes_Snakes_Birds.tex']"
      ]
     },
     "execution_count": 17,
     "metadata": {},
     "output_type": "execute_result"
    }
   ],
   "source": [
    "os.listdir(OUTPUT_DIR)"
   ]
  },
  {
   "cell_type": "markdown",
   "metadata": {},
   "source": [
    "And use the [bubbleplot](https://github.com/Zar-rok/bubbleplot) Latex package to generate the plot!"
   ]
  }
 ],
 "metadata": {
  "kernelspec": {
   "display_name": "Python 3",
   "language": "python",
   "name": "python3"
  },
  "language_info": {
   "codemirror_mode": {
    "name": "ipython",
    "version": 3
   },
   "file_extension": ".py",
   "mimetype": "text/x-python",
   "name": "python",
   "nbconvert_exporter": "python",
   "pygments_lexer": "ipython3",
   "version": "3.8.5"
  }
 },
 "nbformat": 4,
 "nbformat_minor": 4
}
